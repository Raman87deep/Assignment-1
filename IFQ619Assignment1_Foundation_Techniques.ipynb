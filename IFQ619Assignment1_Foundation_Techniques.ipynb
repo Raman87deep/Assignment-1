{
  "nbformat": 4,
  "nbformat_minor": 0,
  "metadata": {
    "colab": {
      "provenance": [],
      "authorship_tag": "ABX9TyONQ/iMUBXYqWs1DfQSvvSL",
      "include_colab_link": true
    },
    "kernelspec": {
      "name": "python3",
      "display_name": "Python 3"
    },
    "language_info": {
      "name": "python"
    }
  },
  "cells": [
    {
      "cell_type": "markdown",
      "metadata": {
        "id": "view-in-github",
        "colab_type": "text"
      },
      "source": [
        "<a href=\"https://colab.research.google.com/github/Raman87deep/Assignment-1/blob/main/IFQ619Assignment1_Foundation_Techniques.ipynb\" target=\"_parent\"><img src=\"https://colab.research.google.com/assets/colab-badge.svg\" alt=\"Open In Colab\"/></a>"
      ]
    },
    {
      "cell_type": "code",
      "source": [
        "#!/usr/bin/env python3\n",
        "\"\"\"\n",
        "Financial Calculator Application\n",
        "Created for Global Financial Solution\n",
        "Accove Pty Ltd - Development Team\n",
        "\n",
        "This calculator provides basic arithmetic operations with\n",
        "input validation and error handling for financial calculations.\n",
        "\"\"\"\n",
        "\n",
        "def add(x, y):\n",
        "    \"\"\"\n",
        "    Function to perform addition\n",
        "    Args: x, y (float) - numbers to add\n",
        "    Returns: float - sum of x and y\n",
        "    \"\"\"\n",
        "    return x + y\n",
        "\n",
        "def subtract(x, y):\n",
        "    \"\"\"\n",
        "    Function to perform subtraction\n",
        "    Args: x, y (float) - numbers to subtract\n",
        "    Returns: float - difference of x and y\n",
        "    \"\"\"\n",
        "    return x - y\n",
        "\n",
        "def multiply(x, y):\n",
        "    \"\"\"\n",
        "    Function to perform multiplication\n",
        "    Args: x, y (float) - numbers to multiply\n",
        "    Returns: float - product of x and y\n",
        "    \"\"\"\n",
        "    return x * y\n",
        "\n",
        "def divide(x, y):\n",
        "    \"\"\"\n",
        "    Function to perform division\n",
        "    Args: x, y (float) - numbers to divide\n",
        "    Returns: float - quotient of x and y\n",
        "    Raises: ZeroDivisionError if y is zero\n",
        "    \"\"\"\n",
        "    if y == 0:\n",
        "        raise ZeroDivisionError(\"Cannot divide by zero\")\n",
        "    return x / y\n",
        "\n",
        "def get_number(prompt):\n",
        "    \"\"\"\n",
        "    Get a valid number from user input\n",
        "    Args: prompt (str) - message to display to user\n",
        "    Returns: float - validated number from user\n",
        "    \"\"\"\n",
        "    while True:\n",
        "        try:\n",
        "            number = float(input(prompt))\n",
        "            return number\n",
        "        except ValueError:\n",
        "            print(\"Invalid input. Please enter a valid number.\")\n",
        "\n",
        "def get_menu_choice():\n",
        "    \"\"\"\n",
        "    Get and validate menu choice from user\n",
        "    Returns: str - validated menu choice (1-5)\n",
        "    \"\"\"\n",
        "    while True:\n",
        "        choice = input(\"\\nEnter your choice (1-5): \").strip()\n",
        "        if choice in ['1', '2', '3', '4', '5']:\n",
        "            return choice\n",
        "        else:\n",
        "            print(\"Invalid choice. Please enter a number between 1-5.\")\n",
        "\n",
        "def display_menu():\n",
        "    \"\"\"Display the calculator menu options\"\"\"\n",
        "    print(\"\\n\" + \"=\"*50)\n",
        "    print(\"      FINANCIAL CALCULATOR - MENU\")\n",
        "    print(\"=\"*50)\n",
        "    print(\"1. Addition\")\n",
        "    print(\"2. Subtraction\")\n",
        "    print(\"3. Multiplication\")\n",
        "    print(\"4. Division\")\n",
        "    print(\"5. Exit\")\n",
        "    print(\"=\"*50)\n",
        "\n",
        "def main():\n",
        "    \"\"\"Main function to run the financial calculator\"\"\"\n",
        "    while True:\n",
        "        display_menu()\n",
        "        choice = get_menu_choice()\n",
        "\n",
        "        if choice == '5':\n",
        "            print(\"Exiting calculator. Goodbye!\")\n",
        "            break\n",
        "\n",
        "        num1 = get_number(\"Enter first number: \")\n",
        "        num2 = get_number(\"Enter second number: \")\n",
        "\n",
        "        if choice == '1':\n",
        "            print(f\"Result: {num1} + {num2} = {add(num1, num2)}\")\n",
        "        elif choice == '2':\n",
        "            print(f\"Result: {num1} - {num2} = {subtract(num1, num2)}\")\n",
        "        elif choice == '3':\n",
        "            print(f\"Result: {num1} * {num2} = {multiply(num1, num2)}\")\n",
        "        elif choice == '4':\n",
        "            try:\n",
        "                print(f\"Result: {num1} / {num2} = {divide(num1, num2)}\")\n",
        "            except ZeroDivisionError as e:\n",
        "                print(f\"Error: {e}\")\n",
        "\n",
        "if __name__ == \"__main__\":\n",
        "    main()"
      ],
      "metadata": {
        "colab": {
          "base_uri": "https://localhost:8080/"
        },
        "id": "5ucWB1jT7G8s",
        "outputId": "1046e589-64af-4b7c-9d6e-3e5c72b39ddd"
      },
      "execution_count": null,
      "outputs": [
        {
          "metadata": {
            "tags": null
          },
          "name": "stdout",
          "output_type": "stream",
          "text": [
            "\n",
            "==================================================\n",
            "      FINANCIAL CALCULATOR - MENU\n",
            "==================================================\n",
            "1. Addition\n",
            "2. Subtraction\n",
            "3. Multiplication\n",
            "4. Division\n",
            "5. Exit\n",
            "==================================================\n"
          ]
        }
      ]
    }
  ]
}